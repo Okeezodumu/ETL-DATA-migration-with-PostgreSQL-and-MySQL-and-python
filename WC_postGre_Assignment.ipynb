{
 "cells": [
  {
   "cell_type": "code",
   "execution_count": null,
   "id": "ea3a0131-a8d3-4b52-91f0-2564c3045f78",
   "metadata": {},
   "outputs": [],
   "source": [
    "# ASSIGNMENT"
   ]
  },
  {
   "cell_type": "code",
   "execution_count": 1,
   "id": "f562ecd1-b16d-4dd6-b888-d98a51a09eec",
   "metadata": {},
   "outputs": [],
   "source": [
    "import mysql.connector as dbconnect\n",
    "import mysql.connector as mysqlconnector\n",
    "from sqlalchemy import create_engine\n",
    "import pandas as pd"
   ]
  },
  {
   "cell_type": "code",
   "execution_count": 2,
   "id": "647db06b-de0c-481c-9983-59c05d1d15d8",
   "metadata": {},
   "outputs": [],
   "source": [
    "import psycopg2 as pgconnect\n"
   ]
  },
  {
   "cell_type": "code",
   "execution_count": null,
   "id": "b9cf6089-dd2f-4fbd-b5d3-fe2fb529c0e7",
   "metadata": {},
   "outputs": [],
   "source": [
    "import getpass\n",
    "\n",
    "\n",
    "# Prompt the user for a password\n",
    "passwd = getpass.getpass(\"Enter your password: \")"
   ]
  },
  {
   "cell_type": "code",
   "execution_count": null,
   "id": "68dbccd0-4cde-48d4-842a-42e6ee36bbd2",
   "metadata": {},
   "outputs": [],
   "source": []
  },
  {
   "cell_type": "code",
   "execution_count": 4,
   "id": "c3a4ca28-7a86-4ae4-862c-1a03c3ad7915",
   "metadata": {},
   "outputs": [
    {
     "name": "stdout",
     "output_type": "stream",
     "text": [
      "Connection to PostgreSQL was successful\n"
     ]
    }
   ],
   "source": [
    "hostname=\"localhost\"\n",
    "dbname=\"Py_largeTransactionDB\"\n",
    "username=\"postgres\"\n",
    "#\n",
    "pgsql_engine = create_engine(f\"postgresql+psycopg2://{username}:{passwd}@{hostname}/{dbname}\",\n",
    "                      pool_recycle=1, pool_timeout=57600).connect()\n",
    "print('Connection to PostgreSQL was successful')"
   ]
  },
  {
   "cell_type": "code",
   "execution_count": 5,
   "id": "99ca1472-cd0e-439f-91b8-1c461df642e1",
   "metadata": {},
   "outputs": [],
   "source": [
    "query = '''\n",
    "SELECT * \n",
    "FROM raw_py_trans_tb;\n",
    "'''"
   ]
  },
  {
   "cell_type": "code",
   "execution_count": 6,
   "id": "95961a20-1591-4ac8-9064-d62b3010922f",
   "metadata": {},
   "outputs": [
    {
     "data": {
      "text/html": [
       "<div>\n",
       "<style scoped>\n",
       "    .dataframe tbody tr th:only-of-type {\n",
       "        vertical-align: middle;\n",
       "    }\n",
       "\n",
       "    .dataframe tbody tr th {\n",
       "        vertical-align: top;\n",
       "    }\n",
       "\n",
       "    .dataframe thead th {\n",
       "        text-align: right;\n",
       "    }\n",
       "</style>\n",
       "<table border=\"1\" class=\"dataframe\">\n",
       "  <thead>\n",
       "    <tr style=\"text-align: right;\">\n",
       "      <th></th>\n",
       "      <th>user_id</th>\n",
       "      <th>event_time</th>\n",
       "      <th>order_id</th>\n",
       "      <th>product_id</th>\n",
       "      <th>category_id</th>\n",
       "      <th>category_code</th>\n",
       "      <th>brand</th>\n",
       "      <th>price</th>\n",
       "    </tr>\n",
       "  </thead>\n",
       "  <tbody>\n",
       "    <tr>\n",
       "      <th>0</th>\n",
       "      <td>1.52E+18</td>\n",
       "      <td>2020-04-24 11:50:39 UTC</td>\n",
       "      <td>2.29436E+18</td>\n",
       "      <td>1.51597E+18</td>\n",
       "      <td>2.27E+18</td>\n",
       "      <td>electronics.tablet</td>\n",
       "      <td>samsung</td>\n",
       "      <td>162.01</td>\n",
       "    </tr>\n",
       "    <tr>\n",
       "      <th>1</th>\n",
       "      <td>1.52E+18</td>\n",
       "      <td>2020-04-24 11:50:39 UTC</td>\n",
       "      <td>2.29436E+18</td>\n",
       "      <td>1.51597E+18</td>\n",
       "      <td>2.27E+18</td>\n",
       "      <td>electronics.tablet</td>\n",
       "      <td>samsung</td>\n",
       "      <td>162.01</td>\n",
       "    </tr>\n",
       "    <tr>\n",
       "      <th>2</th>\n",
       "      <td>1.52E+18</td>\n",
       "      <td>2020-04-24 14:37:43 UTC</td>\n",
       "      <td>2.29444E+18</td>\n",
       "      <td>2.27395E+18</td>\n",
       "      <td>2.27E+18</td>\n",
       "      <td>electronics.audio.headphone</td>\n",
       "      <td>huawei</td>\n",
       "      <td>77.52</td>\n",
       "    </tr>\n",
       "    <tr>\n",
       "      <th>3</th>\n",
       "      <td>1.52E+18</td>\n",
       "      <td>2020-04-24 14:37:43 UTC</td>\n",
       "      <td>2.29444E+18</td>\n",
       "      <td>2.27395E+18</td>\n",
       "      <td>2.27E+18</td>\n",
       "      <td>electronics.audio.headphone</td>\n",
       "      <td>huawei</td>\n",
       "      <td>77.52</td>\n",
       "    </tr>\n",
       "    <tr>\n",
       "      <th>4</th>\n",
       "      <td>1.52E+18</td>\n",
       "      <td>2020-04-24 19:16:21 UTC</td>\n",
       "      <td>2.29458E+18</td>\n",
       "      <td>2.27395E+18</td>\n",
       "      <td>2.27E+18</td>\n",
       "      <td>None</td>\n",
       "      <td>karcher</td>\n",
       "      <td>217.57</td>\n",
       "    </tr>\n",
       "  </tbody>\n",
       "</table>\n",
       "</div>"
      ],
      "text/plain": [
       "    user_id               event_time     order_id   product_id category_id  \\\n",
       "0  1.52E+18  2020-04-24 11:50:39 UTC  2.29436E+18  1.51597E+18    2.27E+18   \n",
       "1  1.52E+18  2020-04-24 11:50:39 UTC  2.29436E+18  1.51597E+18    2.27E+18   \n",
       "2  1.52E+18  2020-04-24 14:37:43 UTC  2.29444E+18  2.27395E+18    2.27E+18   \n",
       "3  1.52E+18  2020-04-24 14:37:43 UTC  2.29444E+18  2.27395E+18    2.27E+18   \n",
       "4  1.52E+18  2020-04-24 19:16:21 UTC  2.29458E+18  2.27395E+18    2.27E+18   \n",
       "\n",
       "                 category_code    brand   price  \n",
       "0           electronics.tablet  samsung  162.01  \n",
       "1           electronics.tablet  samsung  162.01  \n",
       "2  electronics.audio.headphone   huawei   77.52  \n",
       "3  electronics.audio.headphone   huawei   77.52  \n",
       "4                         None  karcher  217.57  "
      ]
     },
     "execution_count": 6,
     "metadata": {},
     "output_type": "execute_result"
    }
   ],
   "source": [
    "pgsql_df = pd.read_sql(query,pgsql_engine)\n",
    "pgsql_df.head(5)"
   ]
  },
  {
   "cell_type": "code",
   "execution_count": 7,
   "id": "9d1d6888-b10e-4757-a952-69665539332d",
   "metadata": {},
   "outputs": [
    {
     "data": {
      "text/plain": [
       "(1048575, 8)"
      ]
     },
     "execution_count": 7,
     "metadata": {},
     "output_type": "execute_result"
    }
   ],
   "source": [
    "pgsql_df.shape"
   ]
  },
  {
   "cell_type": "code",
   "execution_count": 8,
   "id": "63bc723a-5065-40fc-a95b-5fc899400558",
   "metadata": {},
   "outputs": [
    {
     "name": "stdout",
     "output_type": "stream",
     "text": [
      "The number of rows in the table: 1048575\n",
      "The number of columns in the table: 8\n"
     ]
    }
   ],
   "source": [
    "print(f'The number of rows in the table: {pgsql_df.shape[0]}')\n",
    "print(f'The number of columns in the table: {pgsql_df.shape[1]}')"
   ]
  },
  {
   "cell_type": "code",
   "execution_count": 10,
   "id": "7f346d36-01a3-4f48-91ab-8bebf7abf6f1",
   "metadata": {},
   "outputs": [
    {
     "data": {
      "text/plain": [
       "<bound method DataFrame.info of           user_id               event_time     order_id   product_id  \\\n",
       "0        1.52E+18  2020-04-24 11:50:39 UTC  2.29436E+18  1.51597E+18   \n",
       "1        1.52E+18  2020-04-24 11:50:39 UTC  2.29436E+18  1.51597E+18   \n",
       "2        1.52E+18  2020-04-24 14:37:43 UTC  2.29444E+18  2.27395E+18   \n",
       "3        1.52E+18  2020-04-24 14:37:43 UTC  2.29444E+18  2.27395E+18   \n",
       "4        1.52E+18  2020-04-24 19:16:21 UTC  2.29458E+18  2.27395E+18   \n",
       "...           ...                      ...          ...          ...   \n",
       "1048570      None  2020-06-07 10:15:27 UTC  2.35325E+18  1.51597E+18   \n",
       "1048571  1.52E+18  2020-06-07 13:30:11 UTC  2.35325E+18  1.51597E+18   \n",
       "1048572  1.52E+18  2020-06-07 13:30:11 UTC  2.35325E+18  1.51597E+18   \n",
       "1048573      None  2020-06-07 06:58:40 UTC  2.35325E+18  1.51597E+18   \n",
       "1048574      None  2020-06-07 06:58:40 UTC  2.35325E+18  1.51597E+18   \n",
       "\n",
       "        category_id                  category_code    brand   price  \n",
       "0          2.27E+18             electronics.tablet  samsung  162.01  \n",
       "1          2.27E+18             electronics.tablet  samsung  162.01  \n",
       "2          2.27E+18    electronics.audio.headphone   huawei   77.52  \n",
       "3          2.27E+18    electronics.audio.headphone   huawei   77.52  \n",
       "4          2.27E+18                           None  karcher  217.57  \n",
       "...             ...                            ...      ...     ...  \n",
       "1048570    2.27E+18       appliances.kitchen.grill    tefal  115.72  \n",
       "1048571    2.27E+18             stationery.battery    varta    0.69  \n",
       "1048572    2.27E+18  computers.peripherals.monitor  samsung  148.13  \n",
       "1048573    2.27E+18         electronics.smartphone     oppo  115.49  \n",
       "1048574    2.27E+18                           None      ava    0.02  \n",
       "\n",
       "[1048575 rows x 8 columns]>"
      ]
     },
     "execution_count": 10,
     "metadata": {},
     "output_type": "execute_result"
    }
   ],
   "source": [
    "pgsql_df.info"
   ]
  },
  {
   "cell_type": "code",
   "execution_count": 11,
   "id": "ff25cb60-eb80-463d-b595-8d14776e7eb1",
   "metadata": {},
   "outputs": [],
   "source": [
    "# Importing great_expectations and validating the values\n",
    "import great_expectations as ge\n",
    "\n",
    "ge_df = ge.from_pandas(pgsql_df)"
   ]
  },
  {
   "cell_type": "code",
   "execution_count": 12,
   "id": "040c8cb2-a1e1-4ae2-8555-80053d959857",
   "metadata": {},
   "outputs": [
    {
     "data": {
      "text/plain": [
       "great_expectations.dataset.pandas_dataset.PandasDataset"
      ]
     },
     "execution_count": 12,
     "metadata": {},
     "output_type": "execute_result"
    }
   ],
   "source": [
    "type(ge_df) "
   ]
  },
  {
   "cell_type": "code",
   "execution_count": 13,
   "id": "2e130804-3066-4617-89e8-88cdb0c12aef",
   "metadata": {},
   "outputs": [
    {
     "data": {
      "text/plain": [
       "{\n",
       "  \"success\": true,\n",
       "  \"result\": {\n",
       "    \"observed_value\": 8\n",
       "  },\n",
       "  \"meta\": {},\n",
       "  \"exception_info\": {\n",
       "    \"raised_exception\": false,\n",
       "    \"exception_traceback\": null,\n",
       "    \"exception_message\": null\n",
       "  }\n",
       "}"
      ]
     },
     "execution_count": 13,
     "metadata": {},
     "output_type": "execute_result"
    }
   ],
   "source": [
    "# Checking if the the columns count to be equal to 8\n",
    "ge_df.expect_table_column_count_to_equal(8)"
   ]
  },
  {
   "cell_type": "code",
   "execution_count": 14,
   "id": "0bb59da4-767d-45ac-a5b8-d067f517cb36",
   "metadata": {},
   "outputs": [
    {
     "data": {
      "text/plain": [
       "{\n",
       "  \"success\": true,\n",
       "  \"result\": {},\n",
       "  \"meta\": {},\n",
       "  \"exception_info\": {\n",
       "    \"raised_exception\": false,\n",
       "    \"exception_traceback\": null,\n",
       "    \"exception_message\": null\n",
       "  }\n",
       "}"
      ]
     },
     "execution_count": 14,
     "metadata": {},
     "output_type": "execute_result"
    }
   ],
   "source": [
    "# To confirm that the colum user_id exist\n",
    "ge_df.expect_column_to_exist('user_id')"
   ]
  },
  {
   "cell_type": "code",
   "execution_count": 15,
   "id": "66a9c7c3-c544-4d67-a673-f017facce05a",
   "metadata": {},
   "outputs": [
    {
     "data": {
      "text/plain": [
       "{\n",
       "  \"success\": false,\n",
       "  \"result\": {\n",
       "    \"element_count\": 1048575,\n",
       "    \"unexpected_count\": 927269,\n",
       "    \"unexpected_percent\": 88.43134730467538,\n",
       "    \"unexpected_percent_total\": 88.43134730467538,\n",
       "    \"partial_unexpected_list\": []\n",
       "  },\n",
       "  \"meta\": {},\n",
       "  \"exception_info\": {\n",
       "    \"raised_exception\": false,\n",
       "    \"exception_traceback\": null,\n",
       "    \"exception_message\": null\n",
       "  }\n",
       "}"
      ]
     },
     "execution_count": 15,
     "metadata": {},
     "output_type": "execute_result"
    }
   ],
   "source": [
    "#To confirm tha no null values in the 'user_id' column\n",
    "ge_df.expect_column_values_to_not_be_null('user_id')"
   ]
  },
  {
   "cell_type": "code",
   "execution_count": 16,
   "id": "e615b6b1-5aac-4454-8ead-7f07735c4b6f",
   "metadata": {},
   "outputs": [
    {
     "data": {
      "text/plain": [
       "{\n",
       "  \"success\": true,\n",
       "  \"result\": {},\n",
       "  \"meta\": {},\n",
       "  \"exception_info\": {\n",
       "    \"raised_exception\": false,\n",
       "    \"exception_traceback\": null,\n",
       "    \"exception_message\": null\n",
       "  }\n",
       "}"
      ]
     },
     "execution_count": 16,
     "metadata": {},
     "output_type": "execute_result"
    }
   ],
   "source": [
    "# To confirm the column; event_time is in the dataset\n",
    "ge_df.expect_column_to_exist('event_time')"
   ]
  },
  {
   "cell_type": "code",
   "execution_count": 17,
   "id": "d084c74e-ecef-4b96-8c61-5c44daa1552d",
   "metadata": {},
   "outputs": [
    {
     "data": {
      "text/plain": [
       "{\n",
       "  \"success\": true,\n",
       "  \"result\": {\n",
       "    \"element_count\": 1048575,\n",
       "    \"unexpected_count\": 0,\n",
       "    \"unexpected_percent\": 0.0,\n",
       "    \"unexpected_percent_total\": 0.0,\n",
       "    \"partial_unexpected_list\": []\n",
       "  },\n",
       "  \"meta\": {},\n",
       "  \"exception_info\": {\n",
       "    \"raised_exception\": false,\n",
       "    \"exception_traceback\": null,\n",
       "    \"exception_message\": null\n",
       "  }\n",
       "}"
      ]
     },
     "execution_count": 17,
     "metadata": {},
     "output_type": "execute_result"
    }
   ],
   "source": [
    "# To confirm that the column event_time does not contain null values\n",
    "ge_df.expect_column_values_to_not_be_null('event_time')"
   ]
  },
  {
   "cell_type": "code",
   "execution_count": 18,
   "id": "11858a66-609e-4952-8abf-f9300f4d0063",
   "metadata": {},
   "outputs": [
    {
     "data": {
      "text/plain": [
       "{\n",
       "  \"success\": true,\n",
       "  \"result\": {},\n",
       "  \"meta\": {},\n",
       "  \"exception_info\": {\n",
       "    \"raised_exception\": false,\n",
       "    \"exception_traceback\": null,\n",
       "    \"exception_message\": null\n",
       "  }\n",
       "}"
      ]
     },
     "execution_count": 18,
     "metadata": {},
     "output_type": "execute_result"
    }
   ],
   "source": [
    "# To confirm that the colum order_id exist in the dataset\n",
    "ge_df.expect_column_to_exist('order_id')"
   ]
  },
  {
   "cell_type": "code",
   "execution_count": 19,
   "id": "e2be624e-9fbf-43fd-bd00-0456959f76be",
   "metadata": {},
   "outputs": [
    {
     "data": {
      "text/plain": [
       "{\n",
       "  \"success\": true,\n",
       "  \"result\": {\n",
       "    \"element_count\": 1048575,\n",
       "    \"unexpected_count\": 0,\n",
       "    \"unexpected_percent\": 0.0,\n",
       "    \"unexpected_percent_total\": 0.0,\n",
       "    \"partial_unexpected_list\": []\n",
       "  },\n",
       "  \"meta\": {},\n",
       "  \"exception_info\": {\n",
       "    \"raised_exception\": false,\n",
       "    \"exception_traceback\": null,\n",
       "    \"exception_message\": null\n",
       "  }\n",
       "}"
      ]
     },
     "execution_count": 19,
     "metadata": {},
     "output_type": "execute_result"
    }
   ],
   "source": [
    "# To confirm that the column ORDER_Id does not contain null values\n",
    "ge_df.expect_column_values_to_not_be_null('order_id')\n"
   ]
  },
  {
   "cell_type": "code",
   "execution_count": 20,
   "id": "f397d4a1-2656-47f4-a662-1b8a9c526601",
   "metadata": {},
   "outputs": [
    {
     "data": {
      "text/plain": [
       "{\n",
       "  \"success\": true,\n",
       "  \"result\": {},\n",
       "  \"meta\": {},\n",
       "  \"exception_info\": {\n",
       "    \"raised_exception\": false,\n",
       "    \"exception_traceback\": null,\n",
       "    \"exception_message\": null\n",
       "  }\n",
       "}"
      ]
     },
     "execution_count": 20,
     "metadata": {},
     "output_type": "execute_result"
    }
   ],
   "source": [
    "# To confirm that the column product_id exist in the dataset\n",
    "ge_df.expect_column_to_exist('product_id')"
   ]
  },
  {
   "cell_type": "code",
   "execution_count": 21,
   "id": "251d97c6-6538-40eb-ab85-ab53c6e5a7ea",
   "metadata": {},
   "outputs": [
    {
     "data": {
      "text/plain": [
       "{\n",
       "  \"success\": true,\n",
       "  \"result\": {\n",
       "    \"element_count\": 1048575,\n",
       "    \"unexpected_count\": 0,\n",
       "    \"unexpected_percent\": 0.0,\n",
       "    \"unexpected_percent_total\": 0.0,\n",
       "    \"partial_unexpected_list\": []\n",
       "  },\n",
       "  \"meta\": {},\n",
       "  \"exception_info\": {\n",
       "    \"raised_exception\": false,\n",
       "    \"exception_traceback\": null,\n",
       "    \"exception_message\": null\n",
       "  }\n",
       "}"
      ]
     },
     "execution_count": 21,
     "metadata": {},
     "output_type": "execute_result"
    }
   ],
   "source": [
    "# To confirm that the column Product_Id does not contain null values\n",
    "ge_df.expect_column_values_to_not_be_null('product_id')"
   ]
  },
  {
   "cell_type": "code",
   "execution_count": 22,
   "id": "64de9671-5c53-4ef5-b14c-8887a2f9c2e2",
   "metadata": {},
   "outputs": [
    {
     "data": {
      "text/plain": [
       "{\n",
       "  \"success\": true,\n",
       "  \"result\": {},\n",
       "  \"meta\": {},\n",
       "  \"exception_info\": {\n",
       "    \"raised_exception\": false,\n",
       "    \"exception_traceback\": null,\n",
       "    \"exception_message\": null\n",
       "  }\n",
       "}"
      ]
     },
     "execution_count": 22,
     "metadata": {},
     "output_type": "execute_result"
    }
   ],
   "source": [
    "# To confirm that  category_id column is presen in the dataset\n",
    "ge_df.expect_column_to_exist('category_id')"
   ]
  },
  {
   "cell_type": "code",
   "execution_count": 23,
   "id": "a8bd989c-8815-43a2-b4ef-8dd84c8be716",
   "metadata": {},
   "outputs": [
    {
     "data": {
      "text/plain": [
       "{\n",
       "  \"success\": true,\n",
       "  \"result\": {\n",
       "    \"element_count\": 1048575,\n",
       "    \"unexpected_count\": 0,\n",
       "    \"unexpected_percent\": 0.0,\n",
       "    \"unexpected_percent_total\": 0.0,\n",
       "    \"partial_unexpected_list\": []\n",
       "  },\n",
       "  \"meta\": {},\n",
       "  \"exception_info\": {\n",
       "    \"raised_exception\": false,\n",
       "    \"exception_traceback\": null,\n",
       "    \"exception_message\": null\n",
       "  }\n",
       "}"
      ]
     },
     "execution_count": 23,
     "metadata": {},
     "output_type": "execute_result"
    }
   ],
   "source": [
    "# To onfirm that there are no null values in the category_id column\n",
    "\n",
    "ge_df.expect_column_values_to_not_be_null('category_id')"
   ]
  },
  {
   "cell_type": "code",
   "execution_count": 24,
   "id": "26b27e29-27bd-4e6c-aaba-b26b8239ac72",
   "metadata": {},
   "outputs": [
    {
     "data": {
      "text/plain": [
       "{\n",
       "  \"success\": true,\n",
       "  \"result\": {},\n",
       "  \"meta\": {},\n",
       "  \"exception_info\": {\n",
       "    \"raised_exception\": false,\n",
       "    \"exception_traceback\": null,\n",
       "    \"exception_message\": null\n",
       "  }\n",
       "}"
      ]
     },
     "execution_count": 24,
     "metadata": {},
     "output_type": "execute_result"
    }
   ],
   "source": [
    "#To  confirm that category_code column exist\n",
    "ge_df.expect_column_to_exist('category_code')"
   ]
  },
  {
   "cell_type": "code",
   "execution_count": 25,
   "id": "3ac41783-2283-45fe-ba69-a39816e71e4c",
   "metadata": {},
   "outputs": [
    {
     "data": {
      "text/plain": [
       "{\n",
       "  \"success\": false,\n",
       "  \"result\": {\n",
       "    \"element_count\": 1048575,\n",
       "    \"unexpected_count\": 313549,\n",
       "    \"unexpected_percent\": 29.90239134062895,\n",
       "    \"unexpected_percent_total\": 29.90239134062895,\n",
       "    \"partial_unexpected_list\": []\n",
       "  },\n",
       "  \"meta\": {},\n",
       "  \"exception_info\": {\n",
       "    \"raised_exception\": false,\n",
       "    \"exception_traceback\": null,\n",
       "    \"exception_message\": null\n",
       "  }\n",
       "}"
      ]
     },
     "execution_count": 25,
     "metadata": {},
     "output_type": "execute_result"
    }
   ],
   "source": [
    "# To confirm that there are no null values in the category_code column\n",
    "\n",
    "ge_df.expect_column_values_to_not_be_null('category_code')"
   ]
  },
  {
   "cell_type": "code",
   "execution_count": 26,
   "id": "3a114d66-6d5b-46cd-b91e-a33bbaf903cc",
   "metadata": {},
   "outputs": [
    {
     "data": {
      "text/plain": [
       "{\n",
       "  \"success\": true,\n",
       "  \"result\": {},\n",
       "  \"meta\": {},\n",
       "  \"exception_info\": {\n",
       "    \"raised_exception\": false,\n",
       "    \"exception_traceback\": null,\n",
       "    \"exception_message\": null\n",
       "  }\n",
       "}"
      ]
     },
     "execution_count": 26,
     "metadata": {},
     "output_type": "execute_result"
    }
   ],
   "source": [
    "#To confirm that the brand column exist\n",
    "ge_df.expect_column_to_exist('brand')"
   ]
  },
  {
   "cell_type": "code",
   "execution_count": 27,
   "id": "fd3f9a48-d7f3-4405-a65c-04e7870cdbd5",
   "metadata": {},
   "outputs": [
    {
     "data": {
      "text/plain": [
       "{\n",
       "  \"success\": false,\n",
       "  \"result\": {\n",
       "    \"element_count\": 1048575,\n",
       "    \"unexpected_count\": 52301,\n",
       "    \"unexpected_percent\": 4.987816798989105,\n",
       "    \"unexpected_percent_total\": 4.987816798989105,\n",
       "    \"partial_unexpected_list\": []\n",
       "  },\n",
       "  \"meta\": {},\n",
       "  \"exception_info\": {\n",
       "    \"raised_exception\": false,\n",
       "    \"exception_traceback\": null,\n",
       "    \"exception_message\": null\n",
       "  }\n",
       "}"
      ]
     },
     "execution_count": 27,
     "metadata": {},
     "output_type": "execute_result"
    }
   ],
   "source": [
    "# To onfirm that there are no null values in the brand column\n",
    "\n",
    "ge_df.expect_column_values_to_not_be_null('brand')"
   ]
  },
  {
   "cell_type": "code",
   "execution_count": 28,
   "id": "8ef28506-3a52-45e3-af55-9d7435db64fa",
   "metadata": {},
   "outputs": [
    {
     "data": {
      "text/plain": [
       "{\n",
       "  \"success\": true,\n",
       "  \"result\": {},\n",
       "  \"meta\": {},\n",
       "  \"exception_info\": {\n",
       "    \"raised_exception\": false,\n",
       "    \"exception_traceback\": null,\n",
       "    \"exception_message\": null\n",
       "  }\n",
       "}"
      ]
     },
     "execution_count": 28,
     "metadata": {},
     "output_type": "execute_result"
    }
   ],
   "source": [
    "# To confirm  price column exist\n",
    "ge_df.expect_column_to_exist('price')"
   ]
  },
  {
   "cell_type": "code",
   "execution_count": 29,
   "id": "6cd27165-a81f-46f1-90c6-a53200d7128f",
   "metadata": {},
   "outputs": [
    {
     "data": {
      "text/plain": [
       "{\n",
       "  \"success\": true,\n",
       "  \"result\": {\n",
       "    \"element_count\": 1048575,\n",
       "    \"unexpected_count\": 0,\n",
       "    \"unexpected_percent\": 0.0,\n",
       "    \"unexpected_percent_total\": 0.0,\n",
       "    \"partial_unexpected_list\": []\n",
       "  },\n",
       "  \"meta\": {},\n",
       "  \"exception_info\": {\n",
       "    \"raised_exception\": false,\n",
       "    \"exception_traceback\": null,\n",
       "    \"exception_message\": null\n",
       "  }\n",
       "}"
      ]
     },
     "execution_count": 29,
     "metadata": {},
     "output_type": "execute_result"
    }
   ],
   "source": [
    "# To confirm that there are no null values in the price column\n",
    "\n",
    "ge_df.expect_column_values_to_not_be_null('price')"
   ]
  },
  {
   "cell_type": "code",
   "execution_count": 30,
   "id": "ba42cfcf-ef72-43f7-ad50-890374a795dd",
   "metadata": {},
   "outputs": [],
   "source": [
    "# save test case as a json file for reuse\n",
    "ge_df.save_expectation_suite('transactions_results.expectations.json',discard_failed_expectations=False)"
   ]
  },
  {
   "cell_type": "code",
   "execution_count": 31,
   "id": "e1044ff1-9844-4ddd-a54d-9df5dea5ca9d",
   "metadata": {},
   "outputs": [
    {
     "data": {
      "text/plain": [
       "{\n",
       "  \"success\": false,\n",
       "  \"results\": [\n",
       "    {\n",
       "      \"success\": true,\n",
       "      \"expectation_config\": {\n",
       "        \"expectation_type\": \"expect_table_column_count_to_equal\",\n",
       "        \"kwargs\": {\n",
       "          \"value\": 8\n",
       "        },\n",
       "        \"meta\": {}\n",
       "      },\n",
       "      \"result\": {\n",
       "        \"observed_value\": 8\n",
       "      },\n",
       "      \"meta\": {},\n",
       "      \"exception_info\": {\n",
       "        \"raised_exception\": false,\n",
       "        \"exception_message\": null,\n",
       "        \"exception_traceback\": null\n",
       "      }\n",
       "    },\n",
       "    {\n",
       "      \"success\": true,\n",
       "      \"expectation_config\": {\n",
       "        \"expectation_type\": \"expect_column_to_exist\",\n",
       "        \"kwargs\": {\n",
       "          \"column\": \"user_id\"\n",
       "        },\n",
       "        \"meta\": {}\n",
       "      },\n",
       "      \"result\": {},\n",
       "      \"meta\": {},\n",
       "      \"exception_info\": {\n",
       "        \"raised_exception\": false,\n",
       "        \"exception_message\": null,\n",
       "        \"exception_traceback\": null\n",
       "      }\n",
       "    },\n",
       "    {\n",
       "      \"success\": false,\n",
       "      \"expectation_config\": {\n",
       "        \"expectation_type\": \"expect_column_values_to_not_be_null\",\n",
       "        \"kwargs\": {\n",
       "          \"column\": \"user_id\"\n",
       "        },\n",
       "        \"meta\": {}\n",
       "      },\n",
       "      \"result\": {\n",
       "        \"element_count\": 1048575,\n",
       "        \"unexpected_count\": 927269,\n",
       "        \"unexpected_percent\": 88.43134730467538,\n",
       "        \"unexpected_percent_total\": 88.43134730467538,\n",
       "        \"partial_unexpected_list\": []\n",
       "      },\n",
       "      \"meta\": {},\n",
       "      \"exception_info\": {\n",
       "        \"raised_exception\": false,\n",
       "        \"exception_message\": null,\n",
       "        \"exception_traceback\": null\n",
       "      }\n",
       "    },\n",
       "    {\n",
       "      \"success\": true,\n",
       "      \"expectation_config\": {\n",
       "        \"expectation_type\": \"expect_column_to_exist\",\n",
       "        \"kwargs\": {\n",
       "          \"column\": \"event_time\"\n",
       "        },\n",
       "        \"meta\": {}\n",
       "      },\n",
       "      \"result\": {},\n",
       "      \"meta\": {},\n",
       "      \"exception_info\": {\n",
       "        \"raised_exception\": false,\n",
       "        \"exception_message\": null,\n",
       "        \"exception_traceback\": null\n",
       "      }\n",
       "    },\n",
       "    {\n",
       "      \"success\": true,\n",
       "      \"expectation_config\": {\n",
       "        \"expectation_type\": \"expect_column_values_to_not_be_null\",\n",
       "        \"kwargs\": {\n",
       "          \"column\": \"event_time\"\n",
       "        },\n",
       "        \"meta\": {}\n",
       "      },\n",
       "      \"result\": {\n",
       "        \"element_count\": 1048575,\n",
       "        \"unexpected_count\": 0,\n",
       "        \"unexpected_percent\": 0.0,\n",
       "        \"unexpected_percent_total\": 0.0,\n",
       "        \"partial_unexpected_list\": []\n",
       "      },\n",
       "      \"meta\": {},\n",
       "      \"exception_info\": {\n",
       "        \"raised_exception\": false,\n",
       "        \"exception_message\": null,\n",
       "        \"exception_traceback\": null\n",
       "      }\n",
       "    },\n",
       "    {\n",
       "      \"success\": true,\n",
       "      \"expectation_config\": {\n",
       "        \"expectation_type\": \"expect_column_to_exist\",\n",
       "        \"kwargs\": {\n",
       "          \"column\": \"order_id\"\n",
       "        },\n",
       "        \"meta\": {}\n",
       "      },\n",
       "      \"result\": {},\n",
       "      \"meta\": {},\n",
       "      \"exception_info\": {\n",
       "        \"raised_exception\": false,\n",
       "        \"exception_message\": null,\n",
       "        \"exception_traceback\": null\n",
       "      }\n",
       "    },\n",
       "    {\n",
       "      \"success\": true,\n",
       "      \"expectation_config\": {\n",
       "        \"expectation_type\": \"expect_column_values_to_not_be_null\",\n",
       "        \"kwargs\": {\n",
       "          \"column\": \"order_id\"\n",
       "        },\n",
       "        \"meta\": {}\n",
       "      },\n",
       "      \"result\": {\n",
       "        \"element_count\": 1048575,\n",
       "        \"unexpected_count\": 0,\n",
       "        \"unexpected_percent\": 0.0,\n",
       "        \"unexpected_percent_total\": 0.0,\n",
       "        \"partial_unexpected_list\": []\n",
       "      },\n",
       "      \"meta\": {},\n",
       "      \"exception_info\": {\n",
       "        \"raised_exception\": false,\n",
       "        \"exception_message\": null,\n",
       "        \"exception_traceback\": null\n",
       "      }\n",
       "    },\n",
       "    {\n",
       "      \"success\": true,\n",
       "      \"expectation_config\": {\n",
       "        \"expectation_type\": \"expect_column_to_exist\",\n",
       "        \"kwargs\": {\n",
       "          \"column\": \"product_id\"\n",
       "        },\n",
       "        \"meta\": {}\n",
       "      },\n",
       "      \"result\": {},\n",
       "      \"meta\": {},\n",
       "      \"exception_info\": {\n",
       "        \"raised_exception\": false,\n",
       "        \"exception_message\": null,\n",
       "        \"exception_traceback\": null\n",
       "      }\n",
       "    },\n",
       "    {\n",
       "      \"success\": true,\n",
       "      \"expectation_config\": {\n",
       "        \"expectation_type\": \"expect_column_values_to_not_be_null\",\n",
       "        \"kwargs\": {\n",
       "          \"column\": \"product_id\"\n",
       "        },\n",
       "        \"meta\": {}\n",
       "      },\n",
       "      \"result\": {\n",
       "        \"element_count\": 1048575,\n",
       "        \"unexpected_count\": 0,\n",
       "        \"unexpected_percent\": 0.0,\n",
       "        \"unexpected_percent_total\": 0.0,\n",
       "        \"partial_unexpected_list\": []\n",
       "      },\n",
       "      \"meta\": {},\n",
       "      \"exception_info\": {\n",
       "        \"raised_exception\": false,\n",
       "        \"exception_message\": null,\n",
       "        \"exception_traceback\": null\n",
       "      }\n",
       "    },\n",
       "    {\n",
       "      \"success\": true,\n",
       "      \"expectation_config\": {\n",
       "        \"expectation_type\": \"expect_column_to_exist\",\n",
       "        \"kwargs\": {\n",
       "          \"column\": \"category_id\"\n",
       "        },\n",
       "        \"meta\": {}\n",
       "      },\n",
       "      \"result\": {},\n",
       "      \"meta\": {},\n",
       "      \"exception_info\": {\n",
       "        \"raised_exception\": false,\n",
       "        \"exception_message\": null,\n",
       "        \"exception_traceback\": null\n",
       "      }\n",
       "    },\n",
       "    {\n",
       "      \"success\": true,\n",
       "      \"expectation_config\": {\n",
       "        \"expectation_type\": \"expect_column_values_to_not_be_null\",\n",
       "        \"kwargs\": {\n",
       "          \"column\": \"category_id\"\n",
       "        },\n",
       "        \"meta\": {}\n",
       "      },\n",
       "      \"result\": {\n",
       "        \"element_count\": 1048575,\n",
       "        \"unexpected_count\": 0,\n",
       "        \"unexpected_percent\": 0.0,\n",
       "        \"unexpected_percent_total\": 0.0,\n",
       "        \"partial_unexpected_list\": []\n",
       "      },\n",
       "      \"meta\": {},\n",
       "      \"exception_info\": {\n",
       "        \"raised_exception\": false,\n",
       "        \"exception_message\": null,\n",
       "        \"exception_traceback\": null\n",
       "      }\n",
       "    },\n",
       "    {\n",
       "      \"success\": true,\n",
       "      \"expectation_config\": {\n",
       "        \"expectation_type\": \"expect_column_to_exist\",\n",
       "        \"kwargs\": {\n",
       "          \"column\": \"category_code\"\n",
       "        },\n",
       "        \"meta\": {}\n",
       "      },\n",
       "      \"result\": {},\n",
       "      \"meta\": {},\n",
       "      \"exception_info\": {\n",
       "        \"raised_exception\": false,\n",
       "        \"exception_message\": null,\n",
       "        \"exception_traceback\": null\n",
       "      }\n",
       "    },\n",
       "    {\n",
       "      \"success\": false,\n",
       "      \"expectation_config\": {\n",
       "        \"expectation_type\": \"expect_column_values_to_not_be_null\",\n",
       "        \"kwargs\": {\n",
       "          \"column\": \"category_code\"\n",
       "        },\n",
       "        \"meta\": {}\n",
       "      },\n",
       "      \"result\": {\n",
       "        \"element_count\": 1048575,\n",
       "        \"unexpected_count\": 313549,\n",
       "        \"unexpected_percent\": 29.90239134062895,\n",
       "        \"unexpected_percent_total\": 29.90239134062895,\n",
       "        \"partial_unexpected_list\": []\n",
       "      },\n",
       "      \"meta\": {},\n",
       "      \"exception_info\": {\n",
       "        \"raised_exception\": false,\n",
       "        \"exception_message\": null,\n",
       "        \"exception_traceback\": null\n",
       "      }\n",
       "    },\n",
       "    {\n",
       "      \"success\": true,\n",
       "      \"expectation_config\": {\n",
       "        \"expectation_type\": \"expect_column_to_exist\",\n",
       "        \"kwargs\": {\n",
       "          \"column\": \"brand\"\n",
       "        },\n",
       "        \"meta\": {}\n",
       "      },\n",
       "      \"result\": {},\n",
       "      \"meta\": {},\n",
       "      \"exception_info\": {\n",
       "        \"raised_exception\": false,\n",
       "        \"exception_message\": null,\n",
       "        \"exception_traceback\": null\n",
       "      }\n",
       "    },\n",
       "    {\n",
       "      \"success\": false,\n",
       "      \"expectation_config\": {\n",
       "        \"expectation_type\": \"expect_column_values_to_not_be_null\",\n",
       "        \"kwargs\": {\n",
       "          \"column\": \"brand\"\n",
       "        },\n",
       "        \"meta\": {}\n",
       "      },\n",
       "      \"result\": {\n",
       "        \"element_count\": 1048575,\n",
       "        \"unexpected_count\": 52301,\n",
       "        \"unexpected_percent\": 4.987816798989105,\n",
       "        \"unexpected_percent_total\": 4.987816798989105,\n",
       "        \"partial_unexpected_list\": []\n",
       "      },\n",
       "      \"meta\": {},\n",
       "      \"exception_info\": {\n",
       "        \"raised_exception\": false,\n",
       "        \"exception_message\": null,\n",
       "        \"exception_traceback\": null\n",
       "      }\n",
       "    },\n",
       "    {\n",
       "      \"success\": true,\n",
       "      \"expectation_config\": {\n",
       "        \"expectation_type\": \"expect_column_to_exist\",\n",
       "        \"kwargs\": {\n",
       "          \"column\": \"price\"\n",
       "        },\n",
       "        \"meta\": {}\n",
       "      },\n",
       "      \"result\": {},\n",
       "      \"meta\": {},\n",
       "      \"exception_info\": {\n",
       "        \"raised_exception\": false,\n",
       "        \"exception_message\": null,\n",
       "        \"exception_traceback\": null\n",
       "      }\n",
       "    },\n",
       "    {\n",
       "      \"success\": true,\n",
       "      \"expectation_config\": {\n",
       "        \"expectation_type\": \"expect_column_values_to_not_be_null\",\n",
       "        \"kwargs\": {\n",
       "          \"column\": \"price\"\n",
       "        },\n",
       "        \"meta\": {}\n",
       "      },\n",
       "      \"result\": {\n",
       "        \"element_count\": 1048575,\n",
       "        \"unexpected_count\": 0,\n",
       "        \"unexpected_percent\": 0.0,\n",
       "        \"unexpected_percent_total\": 0.0,\n",
       "        \"partial_unexpected_list\": []\n",
       "      },\n",
       "      \"meta\": {},\n",
       "      \"exception_info\": {\n",
       "        \"raised_exception\": false,\n",
       "        \"exception_message\": null,\n",
       "        \"exception_traceback\": null\n",
       "      }\n",
       "    }\n",
       "  ],\n",
       "  \"evaluation_parameters\": {},\n",
       "  \"statistics\": {\n",
       "    \"evaluated_expectations\": 17,\n",
       "    \"successful_expectations\": 14,\n",
       "    \"unsuccessful_expectations\": 3,\n",
       "    \"success_percent\": 82.35294117647058\n",
       "  },\n",
       "  \"meta\": {\n",
       "    \"great_expectations_version\": \"0.18.12\",\n",
       "    \"expectation_suite_name\": \"default\",\n",
       "    \"run_id\": {\n",
       "      \"run_name\": null,\n",
       "      \"run_time\": \"2024-11-16T22:01:20.545820+01:00\"\n",
       "    },\n",
       "    \"batch_kwargs\": {\n",
       "      \"ge_batch_id\": \"6039ca5c-a45d-11ef-951d-f01faf45a6a5\"\n",
       "    },\n",
       "    \"batch_markers\": {},\n",
       "    \"batch_parameters\": {},\n",
       "    \"validation_time\": \"20241116T210120.545820Z\",\n",
       "    \"expectation_suite_meta\": {\n",
       "      \"great_expectations_version\": \"0.18.12\"\n",
       "    }\n",
       "  }\n",
       "}"
      ]
     },
     "execution_count": 31,
     "metadata": {},
     "output_type": "execute_result"
    }
   ],
   "source": [
    "# Validate ge.df to confirm that the data quality test failed\n",
    "initial_check_results = ge_df.validate(expectation_suite='transactions_results.expectations.json')\n",
    "\n",
    "initial_check_results"
   ]
  },
  {
   "cell_type": "code",
   "execution_count": 39,
   "id": "784ba414-f163-48e0-8d87-aeddb66367dc",
   "metadata": {},
   "outputs": [
    {
     "ename": "Exception",
     "evalue": "Sorry! You have isues with your dataset.",
     "output_type": "error",
     "traceback": [
      "\u001b[1;31m---------------------------------------------------------------------------\u001b[0m",
      "\u001b[1;31mException\u001b[0m                                 Traceback (most recent call last)",
      "Cell \u001b[1;32mIn[39], line 5\u001b[0m\n\u001b[0;32m      3\u001b[0m     \u001b[38;5;28mprint\u001b[39m (\u001b[38;5;124m\"\u001b[39m\u001b[38;5;124mGreat! All Data Quality Tests are green!\u001b[39m\u001b[38;5;124m\"\u001b[39m)\n\u001b[0;32m      4\u001b[0m \u001b[38;5;28;01melse\u001b[39;00m:\n\u001b[1;32m----> 5\u001b[0m     \u001b[38;5;28;01mraise\u001b[39;00m \u001b[38;5;167;01mException\u001b[39;00m(\u001b[38;5;124m\"\u001b[39m\u001b[38;5;124mSorry! You have isues with your dataset.\u001b[39m\u001b[38;5;124m\"\u001b[39m)\n",
      "\u001b[1;31mException\u001b[0m: Sorry! You have isues with your dataset."
     ]
    }
   ],
   "source": [
    "# Taking action based on the results\n",
    "if initial_check_results[\"success\"]:\n",
    "    print (\"Great! All Data Quality Tests are green!\")\n",
    "else:\n",
    "    raise Exception(\"Sorry! You have isues with your dataset.\")"
   ]
  },
  {
   "cell_type": "code",
   "execution_count": null,
   "id": "535c5665-860f-4415-afd9-a46cf3ec6f97",
   "metadata": {},
   "outputs": [],
   "source": []
  },
  {
   "cell_type": "code",
   "execution_count": 32,
   "id": "fd9415f5-9fac-4d96-8e61-359524b2e300",
   "metadata": {},
   "outputs": [
    {
     "name": "stdout",
     "output_type": "stream",
     "text": [
      "The column headers: ['user_id', 'event_time', 'order_id', 'product_id', 'category_id', 'category_code', 'brand', 'price']\n"
     ]
    }
   ],
   "source": [
    "# Extracting the column headers\n",
    "column_list = list(pgsql_df.columns) # you can use: pgsql_df.columns.tolist()\n",
    "print(f'The column headers: {column_list}')"
   ]
  },
  {
   "cell_type": "code",
   "execution_count": 33,
   "id": "772c9b38-3279-4b6b-a87a-333157e9b851",
   "metadata": {},
   "outputs": [
    {
     "data": {
      "text/plain": [
       "user_id          927269\n",
       "event_time            0\n",
       "order_id              0\n",
       "product_id            0\n",
       "category_id           0\n",
       "category_code    313549\n",
       "brand             52301\n",
       "price                 0\n",
       "dtype: int64"
      ]
     },
     "execution_count": 33,
     "metadata": {},
     "output_type": "execute_result"
    }
   ],
   "source": [
    "# Checking for null values\n",
    "pgsql_df.isnull().sum()"
   ]
  },
  {
   "cell_type": "code",
   "execution_count": null,
   "id": "86d4641f-f0ab-4edb-a639-e9624e16a910",
   "metadata": {},
   "outputs": [],
   "source": []
  },
  {
   "cell_type": "code",
   "execution_count": 34,
   "id": "be04ea1e-445c-478a-9eb0-cbad0f5764a0",
   "metadata": {},
   "outputs": [
    {
     "data": {
      "text/plain": [
       "(85155, 8)"
      ]
     },
     "execution_count": 34,
     "metadata": {},
     "output_type": "execute_result"
    }
   ],
   "source": [
    "# clean up the null values in the dataframe\n",
    "pgsql_df.dropna(inplace=True)\n",
    "pgsql_df.shape"
   ]
  },
  {
   "cell_type": "code",
   "execution_count": 35,
   "id": "a124c95e-d078-466b-a532-b56fac106300",
   "metadata": {},
   "outputs": [
    {
     "data": {
      "text/plain": [
       "user_id          0\n",
       "event_time       0\n",
       "order_id         0\n",
       "product_id       0\n",
       "category_id      0\n",
       "category_code    0\n",
       "brand            0\n",
       "price            0\n",
       "dtype: int64"
      ]
     },
     "execution_count": 35,
     "metadata": {},
     "output_type": "execute_result"
    }
   ],
   "source": [
    "# Re-Checking for null values\n",
    "pgsql_df.isnull().sum()"
   ]
  },
  {
   "cell_type": "code",
   "execution_count": 36,
   "id": "96f5b929-0d27-469b-ae91-e8134fa17286",
   "metadata": {},
   "outputs": [
    {
     "data": {
      "text/plain": [
       "(85155, 8)"
      ]
     },
     "execution_count": 36,
     "metadata": {},
     "output_type": "execute_result"
    }
   ],
   "source": [
    "pgsql_df.shape"
   ]
  },
  {
   "cell_type": "code",
   "execution_count": 37,
   "id": "dfc2fb19-dfc9-4299-8bb4-c5289c6433e8",
   "metadata": {},
   "outputs": [
    {
     "data": {
      "text/html": [
       "<div>\n",
       "<style scoped>\n",
       "    .dataframe tbody tr th:only-of-type {\n",
       "        vertical-align: middle;\n",
       "    }\n",
       "\n",
       "    .dataframe tbody tr th {\n",
       "        vertical-align: top;\n",
       "    }\n",
       "\n",
       "    .dataframe thead th {\n",
       "        text-align: right;\n",
       "    }\n",
       "</style>\n",
       "<table border=\"1\" class=\"dataframe\">\n",
       "  <thead>\n",
       "    <tr style=\"text-align: right;\">\n",
       "      <th></th>\n",
       "      <th>user_id</th>\n",
       "      <th>event_time</th>\n",
       "      <th>order_id</th>\n",
       "      <th>product_id</th>\n",
       "      <th>category_id</th>\n",
       "      <th>category_code</th>\n",
       "      <th>brand</th>\n",
       "      <th>price</th>\n",
       "    </tr>\n",
       "  </thead>\n",
       "  <tbody>\n",
       "    <tr>\n",
       "      <th>0</th>\n",
       "      <td>1.52E+18</td>\n",
       "      <td>2020-04-24 11:50:39 UTC</td>\n",
       "      <td>2.29436E+18</td>\n",
       "      <td>1.51597E+18</td>\n",
       "      <td>2.27E+18</td>\n",
       "      <td>electronics.tablet</td>\n",
       "      <td>samsung</td>\n",
       "      <td>162.01</td>\n",
       "    </tr>\n",
       "    <tr>\n",
       "      <th>1</th>\n",
       "      <td>1.52E+18</td>\n",
       "      <td>2020-04-24 11:50:39 UTC</td>\n",
       "      <td>2.29436E+18</td>\n",
       "      <td>1.51597E+18</td>\n",
       "      <td>2.27E+18</td>\n",
       "      <td>electronics.tablet</td>\n",
       "      <td>samsung</td>\n",
       "      <td>162.01</td>\n",
       "    </tr>\n",
       "    <tr>\n",
       "      <th>2</th>\n",
       "      <td>1.52E+18</td>\n",
       "      <td>2020-04-24 14:37:43 UTC</td>\n",
       "      <td>2.29444E+18</td>\n",
       "      <td>2.27395E+18</td>\n",
       "      <td>2.27E+18</td>\n",
       "      <td>electronics.audio.headphone</td>\n",
       "      <td>huawei</td>\n",
       "      <td>77.52</td>\n",
       "    </tr>\n",
       "    <tr>\n",
       "      <th>3</th>\n",
       "      <td>1.52E+18</td>\n",
       "      <td>2020-04-24 14:37:43 UTC</td>\n",
       "      <td>2.29444E+18</td>\n",
       "      <td>2.27395E+18</td>\n",
       "      <td>2.27E+18</td>\n",
       "      <td>electronics.audio.headphone</td>\n",
       "      <td>huawei</td>\n",
       "      <td>77.52</td>\n",
       "    </tr>\n",
       "    <tr>\n",
       "      <th>5</th>\n",
       "      <td>1.52E+18</td>\n",
       "      <td>2020-04-26 08:45:57 UTC</td>\n",
       "      <td>2.29572E+18</td>\n",
       "      <td>1.51597E+18</td>\n",
       "      <td>2.27E+18</td>\n",
       "      <td>furniture.kitchen.table</td>\n",
       "      <td>maestro</td>\n",
       "      <td>39.33</td>\n",
       "    </tr>\n",
       "  </tbody>\n",
       "</table>\n",
       "</div>"
      ],
      "text/plain": [
       "    user_id               event_time     order_id   product_id category_id  \\\n",
       "0  1.52E+18  2020-04-24 11:50:39 UTC  2.29436E+18  1.51597E+18    2.27E+18   \n",
       "1  1.52E+18  2020-04-24 11:50:39 UTC  2.29436E+18  1.51597E+18    2.27E+18   \n",
       "2  1.52E+18  2020-04-24 14:37:43 UTC  2.29444E+18  2.27395E+18    2.27E+18   \n",
       "3  1.52E+18  2020-04-24 14:37:43 UTC  2.29444E+18  2.27395E+18    2.27E+18   \n",
       "5  1.52E+18  2020-04-26 08:45:57 UTC  2.29572E+18  1.51597E+18    2.27E+18   \n",
       "\n",
       "                 category_code    brand   price  \n",
       "0           electronics.tablet  samsung  162.01  \n",
       "1           electronics.tablet  samsung  162.01  \n",
       "2  electronics.audio.headphone   huawei   77.52  \n",
       "3  electronics.audio.headphone   huawei   77.52  \n",
       "5      furniture.kitchen.table  maestro   39.33  "
      ]
     },
     "execution_count": 37,
     "metadata": {},
     "output_type": "execute_result"
    }
   ],
   "source": [
    "pgsql_df.head(5)"
   ]
  },
  {
   "cell_type": "code",
   "execution_count": 32,
   "id": "26bdb390-59fe-4602-abaf-29775385323f",
   "metadata": {},
   "outputs": [
    {
     "data": {
      "text/plain": [
       "array(['samsung', 'huawei', 'maestro', 'apple', 'lg', 'polaris', 'intel',\n",
       "       'asus', 'epson', 'tefal', 'kingston', 'ava', 'beurer', 'scarlett',\n",
       "       'caso', 'nokia', 'vivo', 'aoc', 'logitech', 'maxwell', 'vitek',\n",
       "       'panasonic', 'moulinex', 'sony', 'imetec', 'lenovo', 'xiaomi',\n",
       "       'globber', 'philips', 'rondell', 'razer', 'delux', 'prestigio',\n",
       "       'rastar', 'steelseries', 'microlab', 'thomas', 'trust', 'ariston',\n",
       "       'fissman', 'ship', 'hyperx', 'bloody', 'hp', 'tp-link', 'toshiba',\n",
       "       'honor', 'x-game', 'perilla', 'xbox', 'redmond', 'varta', 'beko',\n",
       "       'jbl', 'muljhtidom', 'genius', 'sbs', 'braun', 'kenwood', 'altel',\n",
       "       'apollo', 'thermex', 'gezatone', 'bosch', 'berghoff', 'inhouse',\n",
       "       'svetocopy', 'plantronics', 'birjusa', 'd-link', 'china',\n",
       "       'karcher', 'canon', 'moshi', 'zeppelin', 'portcase', 'deluxe',\n",
       "       'oppo', 'hotpoint-ariston', 'pgytech', 'neo', 'dxracer', 'cougar',\n",
       "       'europrint', 'duracell', 'none', 'onanoff', 'rapoo', 'indesit',\n",
       "       'rowenta', 'deepcool', 'camelion', 'jetair', 'ggg', 'aksion',\n",
       "       'hansa', 'zowie', 'midea', 'ipower', 'kyocera', 'electrolux',\n",
       "       'wacom', 'delonghi', 'gorenje', 'sumdex', 'atlant', 'jaguar',\n",
       "       'babyliss', 'powerplant', 'transcend', 'peterhof', 'gigabyte',\n",
       "       'remington', 'tvs', 'oral-b', 'mercusys', 'elari', 'microsoft',\n",
       "       'awei', 'singer', 'amazon', 'continent', 'victoria', 'organ',\n",
       "       'msi', 'joby', 'huion', 'satechi', 'timson', 'sencor', 'e-blue',\n",
       "       'ergolux', 'tcl', 'bork', 'xp-pen', 'colorful', 'motorola',\n",
       "       'global', 'nika', 'gutrend', 'nintendo', 'ninebot', 'rivacase',\n",
       "       'bradex', 'wilmax', 'svc', 'aoki', 'patriot', 'usams', 'pyrex',\n",
       "       'provence', 'aqua', 'grans', 'google', 'celebrat', 'id-cooling',\n",
       "       'wonlex', 'thermaltake', 'huntkey', 'nv-print', 'dji', 'toro',\n",
       "       'jabra', 'cullmann', 'edifier', 'irbis', 'arnica', 'kaabo',\n",
       "       'huter', 'haushalt', 'garmin', 'borner', 'ruggear', 'atmor',\n",
       "       'simax', 'ozone', 'omron', 'greenway', 'tucano', 'cremesso',\n",
       "       'anymode', 'paclan', 'trio', 'galaxy', 'goodyear', 'coolinar',\n",
       "       'laurastar', 'att', 'janome', 'filtero', 'tayfun', 'gamemax',\n",
       "       'orico', 'different', 'wmf', 'topperr', 'aimoto', 'asrock',\n",
       "       'neoline', 'hyundai', 'bellissima', 'micro', 'fly', 'plextor',\n",
       "       'xgimi', 'amd', 'hoya', 'aerocool', 'fujifilm', 'mattel',\n",
       "       'marshall', 'pozis', 'altex', 'navitel', 'dogland', 'gembird',\n",
       "       'belcando', 'daewoo', 'kitchenaid', 'airline', 'resanta', 'kenko',\n",
       "       'krups', 'smart', 'wethepeople', 'yamaguchi', 'dell', 'nikon',\n",
       "       'zwilling', 'ehra', 'sanc', 'kicx', 'gerat', 'smeg', 'pocketbook',\n",
       "       'inkax', 'alis', 'dyson', 'feja', 'chicco', 'akpo', 'xigmatek',\n",
       "       'sonnet', 'lowepro', 'zlatek', 'bykski', 'eyfel', 'zeta', 'aquael',\n",
       "       'simfer', 'blehk', 'kivi', 'kink', 'nuk', 'manfrotto', 'wxd',\n",
       "       'eglo', 'alex', 'tramp', 'ivolia', 'baboo', 'vitehks', 'taoran',\n",
       "       'kramet', 'uteki', 'puff', 'dahon', 'giant', 'art.fit', 'tailg',\n",
       "       'bestway', 'subini', 'cdc', 'marley', 'insight', 'zala', 'casio',\n",
       "       'franke', 'pedigree', 'technomax', 'aeg', 'phantom', 'starline',\n",
       "       'casada', 'status', 'arktika', 'nvidia', 'olympus', 'gefest',\n",
       "       'compliment', 'alfa', 'reno', 'iiyama', 'avermedia', 'dabur',\n",
       "       'crucial', 'garanterm', 'grohe', 'hintek', 'canyon', 'lion',\n",
       "       'sakura', 'seagate', 'lemark', 'vikhrjh', 'domini', 'brother',\n",
       "       'sibrtekh', 'neptun', 'curver', 'yoobao', 'regnum', 'biostar',\n",
       "       'artberry', 'luch', 'staedtler', 'kerasys', 'akku', 'pccooler',\n",
       "       'president', 'whirlpool', 'x-cooler', 'kona', 'palit',\n",
       "       'skullcandy', 'riva', 'optoma', 'gamdias', 'technogym', 'jonsbo',\n",
       "       'mujjo', 'saramonic', 'navien', 'author', 'babolat', 'jvc',\n",
       "       'millet', 'staub', 'urbanears', 'eurolux', 'swat', 'loewe', 'tsg',\n",
       "       'alinco', 'ezetil', 'novatrack', 'daikin', 'roevuta', 'pioneer',\n",
       "       'fiio', 'demidovskiy', 'pandora', 'superlux', 'melitta',\n",
       "       'ecologystone', 'alienware', 'sigma', 'acana', 'milight',\n",
       "       'inspector', 'beats', 'ritmix', 'corsair', 'legrand', 'tamron',\n",
       "       'megogo', 'parkcity', 'bardahl', 'monge', 'savic', 'cablexpert',\n",
       "       'art.home', 'cannondale', 'polaroid', 'joonies', 'alpengaudi',\n",
       "       'decoroom', 'okko', 'awax', 'lamart', 'glassware', 'atom', 'eset',\n",
       "       'gemon', 'simba', 'medisana', 'proscreen', 'lihom', 'audac',\n",
       "       'xerox', 'apc', 'bose', 'sennheiser', 'mart', 'ivi', 'lol',\n",
       "       'luxell', 'hitachi', 'jetpik', 'barbie', 'dc-girls', 'samsonite',\n",
       "       'liebherr', 'hurom', 'polimerbiht', 'biol', 'roca', 'ezviz',\n",
       "       'gtec', 'symphony', 'gopro', 'blackstar', 'noctua', 'geil',\n",
       "       'etalon', 'zenit', 'kumano', 'ubiquiti', 'dougez', 'vaude',\n",
       "       'tribe', 'filtrete', 'suunto', 'asics', 'cubicfun', 'timberk',\n",
       "       'kurzweil', 'joerex', 'dk', 'stiga', 'rossija', 'vortex', 'cybex',\n",
       "       'elica', 'beeline', 'energea', 'kaspersky'], dtype=object)"
      ]
     },
     "execution_count": 32,
     "metadata": {},
     "output_type": "execute_result"
    }
   ],
   "source": [
    "pgsql_df['brand'].unique()"
   ]
  },
  {
   "cell_type": "code",
   "execution_count": 38,
   "id": "59cbcaf3-dacc-41f8-8bd4-f67543be4bcf",
   "metadata": {},
   "outputs": [
    {
     "data": {
      "text/html": [
       "<div>\n",
       "<style scoped>\n",
       "    .dataframe tbody tr th:only-of-type {\n",
       "        vertical-align: middle;\n",
       "    }\n",
       "\n",
       "    .dataframe tbody tr th {\n",
       "        vertical-align: top;\n",
       "    }\n",
       "\n",
       "    .dataframe thead th {\n",
       "        text-align: right;\n",
       "    }\n",
       "</style>\n",
       "<table border=\"1\" class=\"dataframe\">\n",
       "  <thead>\n",
       "    <tr style=\"text-align: right;\">\n",
       "      <th></th>\n",
       "      <th>price</th>\n",
       "    </tr>\n",
       "  </thead>\n",
       "  <tbody>\n",
       "    <tr>\n",
       "      <th>count</th>\n",
       "      <td>85155.000000</td>\n",
       "    </tr>\n",
       "    <tr>\n",
       "      <th>mean</th>\n",
       "      <td>186.289709</td>\n",
       "    </tr>\n",
       "    <tr>\n",
       "      <th>std</th>\n",
       "      <td>268.435387</td>\n",
       "    </tr>\n",
       "    <tr>\n",
       "      <th>min</th>\n",
       "      <td>0.000000</td>\n",
       "    </tr>\n",
       "    <tr>\n",
       "      <th>25%</th>\n",
       "      <td>25.440000</td>\n",
       "    </tr>\n",
       "    <tr>\n",
       "      <th>50%</th>\n",
       "      <td>92.570000</td>\n",
       "    </tr>\n",
       "    <tr>\n",
       "      <th>75%</th>\n",
       "      <td>243.030000</td>\n",
       "    </tr>\n",
       "    <tr>\n",
       "      <th>max</th>\n",
       "      <td>9606.480000</td>\n",
       "    </tr>\n",
       "  </tbody>\n",
       "</table>\n",
       "</div>"
      ],
      "text/plain": [
       "              price\n",
       "count  85155.000000\n",
       "mean     186.289709\n",
       "std      268.435387\n",
       "min        0.000000\n",
       "25%       25.440000\n",
       "50%       92.570000\n",
       "75%      243.030000\n",
       "max     9606.480000"
      ]
     },
     "execution_count": 38,
     "metadata": {},
     "output_type": "execute_result"
    }
   ],
   "source": [
    "pgsql_df.describe()"
   ]
  },
  {
   "cell_type": "code",
   "execution_count": 39,
   "id": "e9c537b2-5b55-4d3e-8abb-3adcd8445da8",
   "metadata": {},
   "outputs": [
    {
     "name": "stdout",
     "output_type": "stream",
     "text": [
      "<class 'pandas.core.frame.DataFrame'>\n",
      "Index: 85155 entries, 0 to 1048572\n",
      "Data columns (total 8 columns):\n",
      " #   Column         Non-Null Count  Dtype  \n",
      "---  ------         --------------  -----  \n",
      " 0   user_id        85155 non-null  object \n",
      " 1   event_time     85155 non-null  object \n",
      " 2   order_id       85155 non-null  object \n",
      " 3   product_id     85155 non-null  object \n",
      " 4   category_id    85155 non-null  object \n",
      " 5   category_code  85155 non-null  object \n",
      " 6   brand          85155 non-null  object \n",
      " 7   price          85155 non-null  float64\n",
      "dtypes: float64(1), object(7)\n",
      "memory usage: 5.8+ MB\n"
     ]
    }
   ],
   "source": [
    "# checking for the datatypes of each columns\n",
    "pgsql_df.info()"
   ]
  },
  {
   "cell_type": "code",
   "execution_count": 40,
   "id": "f423db73-7410-475e-a78a-996bc7c3a549",
   "metadata": {},
   "outputs": [
    {
     "name": "stdout",
     "output_type": "stream",
     "text": [
      "The column headers: ['user_id', 'event_time', 'order_id', 'product_id', 'category_id', 'category_code', 'brand', 'price']\n"
     ]
    }
   ],
   "source": [
    "# Extracting the column headers\n",
    "column_list = list(pgsql_df.columns) # you can use: pgsql_df.column.tolist()\n",
    "print(f'The column headers: {column_list}')"
   ]
  },
  {
   "cell_type": "code",
   "execution_count": 41,
   "id": "6c4e0e9f-64e3-4095-9f1d-7b823d3eb504",
   "metadata": {},
   "outputs": [
    {
     "name": "stdout",
     "output_type": "stream",
     "text": [
      "<class 'pandas.core.frame.DataFrame'>\n",
      "Index: 85155 entries, 0 to 1048572\n",
      "Data columns (total 8 columns):\n",
      " #   Column         Non-Null Count  Dtype  \n",
      "---  ------         --------------  -----  \n",
      " 0   user_id        85155 non-null  string \n",
      " 1   event_time     85155 non-null  string \n",
      " 2   order_id       85155 non-null  string \n",
      " 3   product_id     85155 non-null  string \n",
      " 4   category_id    85155 non-null  string \n",
      " 5   category_code  85155 non-null  string \n",
      " 6   brand          85155 non-null  string \n",
      " 7   price          85155 non-null  float16\n",
      "dtypes: float16(1), string(7)\n",
      "memory usage: 5.4 MB\n"
     ]
    }
   ],
   "source": [
    "# Convert to appropriate datatypes: 'price' to float16, and the rest to string datatype\n",
    "cols = ['user_id', 'event_time', 'order_id', 'product_id', 'category_id',\n",
    "       'category_code', 'brand', 'price']\n",
    "for x in cols:\n",
    "    if x == \"price\":\n",
    "        pgsql_df[x] = pgsql_df[x].astype('float16')\n",
    "    else:\n",
    "        pgsql_df[x] = pgsql_df[x].astype('string')\n",
    "\n",
    "pgsql_df.info()"
   ]
  },
  {
   "cell_type": "code",
   "execution_count": 42,
   "id": "a7235c15-a2c4-40d8-b264-2bba61fba96d",
   "metadata": {},
   "outputs": [],
   "source": [
    "# Getting a copy of clean dataframe for great expectation testing\n",
    "clean_pgsql_df = pgsql_df.copy()"
   ]
  },
  {
   "cell_type": "code",
   "execution_count": 43,
   "id": "a1f86f0f-dccd-4d88-97fd-362594efd08c",
   "metadata": {},
   "outputs": [],
   "source": [
    "## Testing the Cleaned transactions data with configuration suite\n",
    "clean_transactions_ge_df = ge.from_pandas(clean_pgsql_df)"
   ]
  },
  {
   "cell_type": "code",
   "execution_count": 44,
   "id": "24f28466-ee4e-4abe-8ced-94c682542d6b",
   "metadata": {},
   "outputs": [
    {
     "data": {
      "text/plain": [
       "{\n",
       "  \"success\": true,\n",
       "  \"results\": [\n",
       "    {\n",
       "      \"success\": true,\n",
       "      \"expectation_config\": {\n",
       "        \"expectation_type\": \"expect_table_column_count_to_equal\",\n",
       "        \"kwargs\": {\n",
       "          \"value\": 8\n",
       "        },\n",
       "        \"meta\": {}\n",
       "      },\n",
       "      \"result\": {\n",
       "        \"observed_value\": 8\n",
       "      },\n",
       "      \"meta\": {},\n",
       "      \"exception_info\": {\n",
       "        \"raised_exception\": false,\n",
       "        \"exception_message\": null,\n",
       "        \"exception_traceback\": null\n",
       "      }\n",
       "    },\n",
       "    {\n",
       "      \"success\": true,\n",
       "      \"expectation_config\": {\n",
       "        \"expectation_type\": \"expect_column_to_exist\",\n",
       "        \"kwargs\": {\n",
       "          \"column\": \"user_id\"\n",
       "        },\n",
       "        \"meta\": {}\n",
       "      },\n",
       "      \"result\": {},\n",
       "      \"meta\": {},\n",
       "      \"exception_info\": {\n",
       "        \"raised_exception\": false,\n",
       "        \"exception_message\": null,\n",
       "        \"exception_traceback\": null\n",
       "      }\n",
       "    },\n",
       "    {\n",
       "      \"success\": true,\n",
       "      \"expectation_config\": {\n",
       "        \"expectation_type\": \"expect_column_values_to_not_be_null\",\n",
       "        \"kwargs\": {\n",
       "          \"column\": \"user_id\"\n",
       "        },\n",
       "        \"meta\": {}\n",
       "      },\n",
       "      \"result\": {\n",
       "        \"element_count\": 85155,\n",
       "        \"unexpected_count\": 0,\n",
       "        \"unexpected_percent\": 0.0,\n",
       "        \"unexpected_percent_total\": 0.0,\n",
       "        \"partial_unexpected_list\": []\n",
       "      },\n",
       "      \"meta\": {},\n",
       "      \"exception_info\": {\n",
       "        \"raised_exception\": false,\n",
       "        \"exception_message\": null,\n",
       "        \"exception_traceback\": null\n",
       "      }\n",
       "    },\n",
       "    {\n",
       "      \"success\": true,\n",
       "      \"expectation_config\": {\n",
       "        \"expectation_type\": \"expect_column_to_exist\",\n",
       "        \"kwargs\": {\n",
       "          \"column\": \"event_time\"\n",
       "        },\n",
       "        \"meta\": {}\n",
       "      },\n",
       "      \"result\": {},\n",
       "      \"meta\": {},\n",
       "      \"exception_info\": {\n",
       "        \"raised_exception\": false,\n",
       "        \"exception_message\": null,\n",
       "        \"exception_traceback\": null\n",
       "      }\n",
       "    },\n",
       "    {\n",
       "      \"success\": true,\n",
       "      \"expectation_config\": {\n",
       "        \"expectation_type\": \"expect_column_values_to_not_be_null\",\n",
       "        \"kwargs\": {\n",
       "          \"column\": \"event_time\"\n",
       "        },\n",
       "        \"meta\": {}\n",
       "      },\n",
       "      \"result\": {\n",
       "        \"element_count\": 85155,\n",
       "        \"unexpected_count\": 0,\n",
       "        \"unexpected_percent\": 0.0,\n",
       "        \"unexpected_percent_total\": 0.0,\n",
       "        \"partial_unexpected_list\": []\n",
       "      },\n",
       "      \"meta\": {},\n",
       "      \"exception_info\": {\n",
       "        \"raised_exception\": false,\n",
       "        \"exception_message\": null,\n",
       "        \"exception_traceback\": null\n",
       "      }\n",
       "    },\n",
       "    {\n",
       "      \"success\": true,\n",
       "      \"expectation_config\": {\n",
       "        \"expectation_type\": \"expect_column_to_exist\",\n",
       "        \"kwargs\": {\n",
       "          \"column\": \"order_id\"\n",
       "        },\n",
       "        \"meta\": {}\n",
       "      },\n",
       "      \"result\": {},\n",
       "      \"meta\": {},\n",
       "      \"exception_info\": {\n",
       "        \"raised_exception\": false,\n",
       "        \"exception_message\": null,\n",
       "        \"exception_traceback\": null\n",
       "      }\n",
       "    },\n",
       "    {\n",
       "      \"success\": true,\n",
       "      \"expectation_config\": {\n",
       "        \"expectation_type\": \"expect_column_values_to_not_be_null\",\n",
       "        \"kwargs\": {\n",
       "          \"column\": \"order_id\"\n",
       "        },\n",
       "        \"meta\": {}\n",
       "      },\n",
       "      \"result\": {\n",
       "        \"element_count\": 85155,\n",
       "        \"unexpected_count\": 0,\n",
       "        \"unexpected_percent\": 0.0,\n",
       "        \"unexpected_percent_total\": 0.0,\n",
       "        \"partial_unexpected_list\": []\n",
       "      },\n",
       "      \"meta\": {},\n",
       "      \"exception_info\": {\n",
       "        \"raised_exception\": false,\n",
       "        \"exception_message\": null,\n",
       "        \"exception_traceback\": null\n",
       "      }\n",
       "    },\n",
       "    {\n",
       "      \"success\": true,\n",
       "      \"expectation_config\": {\n",
       "        \"expectation_type\": \"expect_column_to_exist\",\n",
       "        \"kwargs\": {\n",
       "          \"column\": \"product_id\"\n",
       "        },\n",
       "        \"meta\": {}\n",
       "      },\n",
       "      \"result\": {},\n",
       "      \"meta\": {},\n",
       "      \"exception_info\": {\n",
       "        \"raised_exception\": false,\n",
       "        \"exception_message\": null,\n",
       "        \"exception_traceback\": null\n",
       "      }\n",
       "    },\n",
       "    {\n",
       "      \"success\": true,\n",
       "      \"expectation_config\": {\n",
       "        \"expectation_type\": \"expect_column_values_to_not_be_null\",\n",
       "        \"kwargs\": {\n",
       "          \"column\": \"product_id\"\n",
       "        },\n",
       "        \"meta\": {}\n",
       "      },\n",
       "      \"result\": {\n",
       "        \"element_count\": 85155,\n",
       "        \"unexpected_count\": 0,\n",
       "        \"unexpected_percent\": 0.0,\n",
       "        \"unexpected_percent_total\": 0.0,\n",
       "        \"partial_unexpected_list\": []\n",
       "      },\n",
       "      \"meta\": {},\n",
       "      \"exception_info\": {\n",
       "        \"raised_exception\": false,\n",
       "        \"exception_message\": null,\n",
       "        \"exception_traceback\": null\n",
       "      }\n",
       "    },\n",
       "    {\n",
       "      \"success\": true,\n",
       "      \"expectation_config\": {\n",
       "        \"expectation_type\": \"expect_column_to_exist\",\n",
       "        \"kwargs\": {\n",
       "          \"column\": \"category_id\"\n",
       "        },\n",
       "        \"meta\": {}\n",
       "      },\n",
       "      \"result\": {},\n",
       "      \"meta\": {},\n",
       "      \"exception_info\": {\n",
       "        \"raised_exception\": false,\n",
       "        \"exception_message\": null,\n",
       "        \"exception_traceback\": null\n",
       "      }\n",
       "    },\n",
       "    {\n",
       "      \"success\": true,\n",
       "      \"expectation_config\": {\n",
       "        \"expectation_type\": \"expect_column_values_to_not_be_null\",\n",
       "        \"kwargs\": {\n",
       "          \"column\": \"category_id\"\n",
       "        },\n",
       "        \"meta\": {}\n",
       "      },\n",
       "      \"result\": {\n",
       "        \"element_count\": 85155,\n",
       "        \"unexpected_count\": 0,\n",
       "        \"unexpected_percent\": 0.0,\n",
       "        \"unexpected_percent_total\": 0.0,\n",
       "        \"partial_unexpected_list\": []\n",
       "      },\n",
       "      \"meta\": {},\n",
       "      \"exception_info\": {\n",
       "        \"raised_exception\": false,\n",
       "        \"exception_message\": null,\n",
       "        \"exception_traceback\": null\n",
       "      }\n",
       "    },\n",
       "    {\n",
       "      \"success\": true,\n",
       "      \"expectation_config\": {\n",
       "        \"expectation_type\": \"expect_column_to_exist\",\n",
       "        \"kwargs\": {\n",
       "          \"column\": \"category_code\"\n",
       "        },\n",
       "        \"meta\": {}\n",
       "      },\n",
       "      \"result\": {},\n",
       "      \"meta\": {},\n",
       "      \"exception_info\": {\n",
       "        \"raised_exception\": false,\n",
       "        \"exception_message\": null,\n",
       "        \"exception_traceback\": null\n",
       "      }\n",
       "    },\n",
       "    {\n",
       "      \"success\": true,\n",
       "      \"expectation_config\": {\n",
       "        \"expectation_type\": \"expect_column_values_to_not_be_null\",\n",
       "        \"kwargs\": {\n",
       "          \"column\": \"category_code\"\n",
       "        },\n",
       "        \"meta\": {}\n",
       "      },\n",
       "      \"result\": {\n",
       "        \"element_count\": 85155,\n",
       "        \"unexpected_count\": 0,\n",
       "        \"unexpected_percent\": 0.0,\n",
       "        \"unexpected_percent_total\": 0.0,\n",
       "        \"partial_unexpected_list\": []\n",
       "      },\n",
       "      \"meta\": {},\n",
       "      \"exception_info\": {\n",
       "        \"raised_exception\": false,\n",
       "        \"exception_message\": null,\n",
       "        \"exception_traceback\": null\n",
       "      }\n",
       "    },\n",
       "    {\n",
       "      \"success\": true,\n",
       "      \"expectation_config\": {\n",
       "        \"expectation_type\": \"expect_column_to_exist\",\n",
       "        \"kwargs\": {\n",
       "          \"column\": \"brand\"\n",
       "        },\n",
       "        \"meta\": {}\n",
       "      },\n",
       "      \"result\": {},\n",
       "      \"meta\": {},\n",
       "      \"exception_info\": {\n",
       "        \"raised_exception\": false,\n",
       "        \"exception_message\": null,\n",
       "        \"exception_traceback\": null\n",
       "      }\n",
       "    },\n",
       "    {\n",
       "      \"success\": true,\n",
       "      \"expectation_config\": {\n",
       "        \"expectation_type\": \"expect_column_values_to_not_be_null\",\n",
       "        \"kwargs\": {\n",
       "          \"column\": \"brand\"\n",
       "        },\n",
       "        \"meta\": {}\n",
       "      },\n",
       "      \"result\": {\n",
       "        \"element_count\": 85155,\n",
       "        \"unexpected_count\": 0,\n",
       "        \"unexpected_percent\": 0.0,\n",
       "        \"unexpected_percent_total\": 0.0,\n",
       "        \"partial_unexpected_list\": []\n",
       "      },\n",
       "      \"meta\": {},\n",
       "      \"exception_info\": {\n",
       "        \"raised_exception\": false,\n",
       "        \"exception_message\": null,\n",
       "        \"exception_traceback\": null\n",
       "      }\n",
       "    },\n",
       "    {\n",
       "      \"success\": true,\n",
       "      \"expectation_config\": {\n",
       "        \"expectation_type\": \"expect_column_to_exist\",\n",
       "        \"kwargs\": {\n",
       "          \"column\": \"price\"\n",
       "        },\n",
       "        \"meta\": {}\n",
       "      },\n",
       "      \"result\": {},\n",
       "      \"meta\": {},\n",
       "      \"exception_info\": {\n",
       "        \"raised_exception\": false,\n",
       "        \"exception_message\": null,\n",
       "        \"exception_traceback\": null\n",
       "      }\n",
       "    },\n",
       "    {\n",
       "      \"success\": true,\n",
       "      \"expectation_config\": {\n",
       "        \"expectation_type\": \"expect_column_values_to_not_be_null\",\n",
       "        \"kwargs\": {\n",
       "          \"column\": \"price\"\n",
       "        },\n",
       "        \"meta\": {}\n",
       "      },\n",
       "      \"result\": {\n",
       "        \"element_count\": 85155,\n",
       "        \"unexpected_count\": 0,\n",
       "        \"unexpected_percent\": 0.0,\n",
       "        \"unexpected_percent_total\": 0.0,\n",
       "        \"partial_unexpected_list\": []\n",
       "      },\n",
       "      \"meta\": {},\n",
       "      \"exception_info\": {\n",
       "        \"raised_exception\": false,\n",
       "        \"exception_message\": null,\n",
       "        \"exception_traceback\": null\n",
       "      }\n",
       "    }\n",
       "  ],\n",
       "  \"evaluation_parameters\": {},\n",
       "  \"statistics\": {\n",
       "    \"evaluated_expectations\": 17,\n",
       "    \"successful_expectations\": 17,\n",
       "    \"unsuccessful_expectations\": 0,\n",
       "    \"success_percent\": 100.0\n",
       "  },\n",
       "  \"meta\": {\n",
       "    \"great_expectations_version\": \"0.18.12\",\n",
       "    \"expectation_suite_name\": \"default\",\n",
       "    \"run_id\": {\n",
       "      \"run_name\": null,\n",
       "      \"run_time\": \"2024-11-16T22:03:32.193389+01:00\"\n",
       "    },\n",
       "    \"batch_kwargs\": {\n",
       "      \"ge_batch_id\": \"3acd6fac-a45e-11ef-802e-f01faf45a6a5\"\n",
       "    },\n",
       "    \"batch_markers\": {},\n",
       "    \"batch_parameters\": {},\n",
       "    \"validation_time\": \"20241116T210332.192391Z\",\n",
       "    \"expectation_suite_meta\": {\n",
       "      \"great_expectations_version\": \"0.18.12\"\n",
       "    }\n",
       "  }\n",
       "}"
      ]
     },
     "execution_count": 44,
     "metadata": {},
     "output_type": "execute_result"
    }
   ],
   "source": [
    "# Creating Test results using our saved configuration json file\n",
    "final_check_results = clean_transactions_ge_df.validate(expectation_suite='transactions_results.expectations.json')\n",
    "final_check_results"
   ]
  },
  {
   "cell_type": "code",
   "execution_count": 46,
   "id": "0df23171-11ad-4dbd-b331-10c8c5cc6737",
   "metadata": {},
   "outputs": [
    {
     "name": "stdout",
     "output_type": "stream",
     "text": [
      "Amazing! All Data Quality Tests are green!\n"
     ]
    }
   ],
   "source": [
    "# Take action based on the results\n",
    "if final_check_results[\"success\"]:\n",
    "    print (\"Amazing! All Data Quality Tests are green!\")\n",
    "else:\n",
    "    raise Exception(\"Oops! You've got issues.\")"
   ]
  },
  {
   "cell_type": "code",
   "execution_count": 47,
   "id": "82453f09-e9fc-479a-9d16-9608288494b3",
   "metadata": {},
   "outputs": [
    {
     "data": {
      "text/html": [
       "<div>\n",
       "<style scoped>\n",
       "    .dataframe tbody tr th:only-of-type {\n",
       "        vertical-align: middle;\n",
       "    }\n",
       "\n",
       "    .dataframe tbody tr th {\n",
       "        vertical-align: top;\n",
       "    }\n",
       "\n",
       "    .dataframe thead th {\n",
       "        text-align: right;\n",
       "    }\n",
       "</style>\n",
       "<table border=\"1\" class=\"dataframe\">\n",
       "  <thead>\n",
       "    <tr style=\"text-align: right;\">\n",
       "      <th></th>\n",
       "      <th>price</th>\n",
       "    </tr>\n",
       "    <tr>\n",
       "      <th>brand</th>\n",
       "      <th></th>\n",
       "    </tr>\n",
       "  </thead>\n",
       "  <tbody>\n",
       "    <tr>\n",
       "      <th>acana</th>\n",
       "      <td>87.609375</td>\n",
       "    </tr>\n",
       "    <tr>\n",
       "      <th>aeg</th>\n",
       "      <td>955.166687</td>\n",
       "    </tr>\n",
       "    <tr>\n",
       "      <th>aerocool</th>\n",
       "      <td>125.413345</td>\n",
       "    </tr>\n",
       "    <tr>\n",
       "      <th>aimoto</th>\n",
       "      <td>56.186821</td>\n",
       "    </tr>\n",
       "    <tr>\n",
       "      <th>airline</th>\n",
       "      <td>19.190605</td>\n",
       "    </tr>\n",
       "    <tr>\n",
       "      <th>...</th>\n",
       "      <td>...</td>\n",
       "    </tr>\n",
       "    <tr>\n",
       "      <th>zeppelin</th>\n",
       "      <td>34.518974</td>\n",
       "    </tr>\n",
       "    <tr>\n",
       "      <th>zeta</th>\n",
       "      <td>38.432293</td>\n",
       "    </tr>\n",
       "    <tr>\n",
       "      <th>zlatek</th>\n",
       "      <td>53.218750</td>\n",
       "    </tr>\n",
       "    <tr>\n",
       "      <th>zowie</th>\n",
       "      <td>82.894096</td>\n",
       "    </tr>\n",
       "    <tr>\n",
       "      <th>zwilling</th>\n",
       "      <td>129.118301</td>\n",
       "    </tr>\n",
       "  </tbody>\n",
       "</table>\n",
       "<p>437 rows × 1 columns</p>\n",
       "</div>"
      ],
      "text/plain": [
       "               price\n",
       "brand               \n",
       "acana      87.609375\n",
       "aeg       955.166687\n",
       "aerocool  125.413345\n",
       "aimoto     56.186821\n",
       "airline    19.190605\n",
       "...              ...\n",
       "zeppelin   34.518974\n",
       "zeta       38.432293\n",
       "zlatek     53.218750\n",
       "zowie      82.894096\n",
       "zwilling  129.118301\n",
       "\n",
       "[437 rows x 1 columns]"
      ]
     },
     "execution_count": 47,
     "metadata": {},
     "output_type": "execute_result"
    }
   ],
   "source": [
    "# Checking the trend of loudness over the years\n",
    "#create a pivot table from dataframe by modifying the below code but using:\n",
    "# index= 'year_released', values = loudness, aggfunc='mean'\n",
    "\n",
    "pd.pivot_table(pgsql_df,index='brand',values='price',  aggfunc='mean') "
   ]
  },
  {
   "cell_type": "code",
   "execution_count": 48,
   "id": "da06b20d-50d6-465d-ae8b-4d19ec0af3c3",
   "metadata": {},
   "outputs": [
    {
     "name": "stdout",
     "output_type": "stream",
     "text": [
      "The query with 85155 rows took 12secs\n"
     ]
    }
   ],
   "source": [
    "# Exporting the clean dataframe by chunking\n",
    "import time\n",
    "\n",
    "row_total = len(pgsql_df)\n",
    "start_time = time.time()\n",
    "table_name = 'clean_Pytransact_records_tb'\n",
    "hostname = \"localhost\"\n",
    "dbname = \"Py_largeTransactionDB\"\n",
    "username = \"postgres\"\n",
    "port = 5432\n",
    "engine = create_engine(f\"postgresql+psycopg2://{username}:{passwd}@{hostname}:{port}/{dbname}\")\n",
    "pgsql_df.to_sql(table_name, \n",
    "                 con=engine, \n",
    "                 if_exists=\"replace\",\n",
    "                 index=False)\n",
    "stop_time = time.time()\n",
    "print(f'The query with {row_total} rows took {round(stop_time-start_time)}secs')"
   ]
  },
  {
   "cell_type": "code",
   "execution_count": null,
   "id": "a134a4d2-17ed-498e-ad02-95915b8524cf",
   "metadata": {},
   "outputs": [],
   "source": []
  },
  {
   "cell_type": "code",
   "execution_count": null,
   "id": "086fbb2a-df2a-493b-aa7f-eb443882f419",
   "metadata": {},
   "outputs": [],
   "source": []
  },
  {
   "cell_type": "code",
   "execution_count": null,
   "id": "614dab3c-8a6b-4998-9db8-51759e53e8d1",
   "metadata": {},
   "outputs": [],
   "source": []
  }
 ],
 "metadata": {
  "kernelspec": {
   "display_name": "Python (myenv_dscience)",
   "language": "python",
   "name": "myenv_dscience"
  },
  "language_info": {
   "codemirror_mode": {
    "name": "ipython",
    "version": 3
   },
   "file_extension": ".py",
   "mimetype": "text/x-python",
   "name": "python",
   "nbconvert_exporter": "python",
   "pygments_lexer": "ipython3",
   "version": "3.11.9"
  }
 },
 "nbformat": 4,
 "nbformat_minor": 5
}
